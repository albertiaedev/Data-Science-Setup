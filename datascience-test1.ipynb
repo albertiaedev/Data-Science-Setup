{
 "cells": [
  {
   "cell_type": "code",
   "execution_count": null,
   "id": "05965c7e-7ba0-4024-a300-943d9b203b90",
   "metadata": {},
   "outputs": [],
   "source": [
    "# import pandas, numpy and matplotlib\n",
    "\n",
    "\n",
    "import pandas as pd\n",
    "import numpy as np\n",
    "import matplotlib.pyplot as plt"
   ]
  },
  {
   "cell_type": "code",
   "execution_count": null,
   "id": "b7da8434-6444-43c1-8041-afadee4bbc20",
   "metadata": {},
   "outputs": [],
   "source": [
    "# create a dataframe from scratch\n",
    "\n",
    "\n",
    "table = pd.DataFrame(\n",
    "    {'Avena':[3.0,3.9,4.3,4.3,5.0,8.1,6.2,6.5,6.5,7.0,6.8,7.0],\n",
    "     'Trigo':[1.8,3.1,3.3,4.2,3.0,5.5,6.2,6.4,6.5,6.9,5.5,5.0],\n",
    "     'Arroz':[2.9,3.9,4.5,4.4,6.0,6.8,6.2,7.5,6.5,6.8,7.3,7.8],\n",
    "     'Maíz':[2.7,3.5,4.3,4.4,5.9,6.1,6.2,5.9,6.5,7.1,6.9,6.1],\n",
    "     'Cebada':[2.3,3.3,4.3,3.4,2.9,5.9,6.9,6.5,6.5,7.0,6.2,5.0]},\n",
    "    index = ['Enero','Febrero','Marzo','Abril','Mayo','Junio',\n",
    "             'Julio','Agosto','Septiembre','Octubre','Noviembre','Diciembre'])"
   ]
  },
  {
   "cell_type": "code",
   "execution_count": null,
   "id": "d0125a5e-40f5-40fe-9dc4-3925bbb68fbb",
   "metadata": {},
   "outputs": [],
   "source": [
    "# check what the dataframe that you just created looks like\n",
    "\n",
    "\n",
    "print(table,'\\n')\n",
    "print(table.describe())"
   ]
  },
  {
   "cell_type": "code",
   "execution_count": null,
   "id": "6feba3ad-d1cf-4d02-b2c2-a6e5351d0cba",
   "metadata": {},
   "outputs": [],
   "source": [
    "# make plots off the dataframe\n",
    "\n",
    "\n",
    "table.plot(title='Producción Anual de Cereales')\n",
    "table.plot.bar(title='Producción Anual de Cereales',subplots=True)\n",
    "table.plot.scatter(x=2,y=3,title='Producción Anual de Cereales',subplots=True)\n",
    "plt.xlabel('I TRIMETRE - II TRIMESTRE - II TRIMESTRE - IV TRIMESTRE')\n",
    "plt.ylabel('Toneladas Producidas')\n",
    "plt.show()"
   ]
  }
 ],
 "metadata": {
  "kernelspec": {
   "display_name": "Python 3 (ipykernel)",
   "language": "python",
   "name": "python3"
  },
  "language_info": {
   "codemirror_mode": {
    "name": "ipython",
    "version": 3
   },
   "file_extension": ".py",
   "mimetype": "text/x-python",
   "name": "python",
   "nbconvert_exporter": "python",
   "pygments_lexer": "ipython3",
   "version": "3.10.12"
  }
 },
 "nbformat": 4,
 "nbformat_minor": 5
}
