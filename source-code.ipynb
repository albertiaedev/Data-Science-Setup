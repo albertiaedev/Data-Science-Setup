{
 "cells": [
  {
   "cell_type": "markdown",
   "id": "27a7ebaf",
   "metadata": {},
   "source": [
    "# SOURCE CODE FOR DATA SCIENCE"
   ]
  },
  {
   "cell_type": "markdown",
   "id": "d141a13f",
   "metadata": {},
   "source": [
    "Import the libraries for data science projects:"
   ]
  },
  {
   "cell_type": "code",
   "execution_count": null,
   "id": "9eccde92",
   "metadata": {},
   "outputs": [],
   "source": [
    "import pandas as pd\n",
    "import numpy as np\n",
    "import matplotlib.pyplot as plt"
   ]
  },
  {
   "cell_type": "code",
   "execution_count": null,
   "id": "3cee41a3",
   "metadata": {},
   "outputs": [],
   "source": [
    "from sklearn.model_selection import train_test_split\n",
    "from sklearn.preprocessing import StandardScaler, Normalizer, Binarizer\n",
    "from sklearn.metrics import mean_absolute_error, adjusted_rand_score, homogeneity_score, v_measure_score\n",
    "from sklearn.cross_validation import cross_val_score\n",
    "from sklearn.linear_model import LinearRegression\n",
    "from sklearn.svm import SVC\n",
    "from sklearn.naive_bayes import GaussianNB\n",
    "from sklearn import neighbors\n",
    "from sklearn.decomposition import PCA\n",
    "from sklearn.cluster import KMeans"
   ]
  },
  {
   "cell_type": "markdown",
   "id": "25ef2387",
   "metadata": {},
   "source": [
    "Name your project:"
   ]
  },
  {
   "cell_type": "code",
   "execution_count": null,
   "id": "78e36386",
   "metadata": {},
   "outputs": [],
   "source": [
    "print(\"\\t[TITLE]\\n\")"
   ]
  },
  {
   "cell_type": "markdown",
   "id": "80e69a09",
   "metadata": {},
   "source": [
    "## DATA ANALYSIS"
   ]
  },
  {
   "cell_type": "markdown",
   "id": "433b405d",
   "metadata": {},
   "source": [
    "Read the csv document that contains the dataset:"
   ]
  },
  {
   "cell_type": "code",
   "execution_count": null,
   "id": "7100b056",
   "metadata": {},
   "outputs": [],
   "source": [
    "df = pd.read_csv(\".csv\")"
   ]
  },
  {
   "cell_type": "markdown",
   "id": "6f79bf15",
   "metadata": {},
   "source": [
    "Obtain a detailed info:"
   ]
  },
  {
   "cell_type": "code",
   "execution_count": null,
   "id": "1e108f50",
   "metadata": {},
   "outputs": [],
   "source": [
    "print(df.info(),'\\n')"
   ]
  },
  {
   "cell_type": "markdown",
   "id": "6e63ec66",
   "metadata": {},
   "source": [
    "Get the name of the columns:"
   ]
  },
  {
   "cell_type": "code",
   "execution_count": null,
   "id": "791ffd59",
   "metadata": {},
   "outputs": [],
   "source": [
    "print(df.columns,'\\n')"
   ]
  },
  {
   "cell_type": "markdown",
   "id": "e477c7dc",
   "metadata": {},
   "source": [
    "Show if there are missing values in the dataset:"
   ]
  },
  {
   "cell_type": "code",
   "execution_count": null,
   "id": "f40fb27a",
   "metadata": {},
   "outputs": [],
   "source": [
    "missing = df.isnull().sum()\n",
    "print('Missing Values ->\\n')\n",
    "print(missing[:],'\\n')"
   ]
  },
  {
   "cell_type": "markdown",
   "id": "066e00ca",
   "metadata": {},
   "source": [
    "Get the percentage representing the missing values:"
   ]
  },
  {
   "cell_type": "code",
   "execution_count": null,
   "id": "abace842",
   "metadata": {},
   "outputs": [],
   "source": [
    "cells = np.product(df.shape)\n",
    "missing = missing.sum()\n",
    "percent = (missing/cells) * 100\n",
    "print(f\"The percentage of missing values is {percent}%.\\n\")"
   ]
  },
  {
   "cell_type": "markdown",
   "id": "37cae319",
   "metadata": {},
   "source": [
    "Show the first and last rows to make sure you got the right data:"
   ]
  },
  {
   "cell_type": "code",
   "execution_count": null,
   "id": "6dd5e758",
   "metadata": {},
   "outputs": [],
   "source": [
    "print(f'This dataset contains (rows, colums) before cleaning: {df.shape}.\\n')\n",
    "print(df.head(25),'\\n')\n",
    "print(df.tail(25),'\\n')\n",
    "print(df.describe(),'\\n')"
   ]
  },
  {
   "cell_type": "markdown",
   "id": "e33e4b93",
   "metadata": {},
   "source": [
    "Fill empty spaces with a 0:"
   ]
  },
  {
   "cell_type": "code",
   "execution_count": null,
   "id": "7f7e367a",
   "metadata": {},
   "outputs": [],
   "source": [
    "df = df.fillna(0)"
   ]
  },
  {
   "cell_type": "markdown",
   "id": "10bb7706",
   "metadata": {},
   "source": [
    "Show the first and last rows after cleaning and apply a basic data analysis:"
   ]
  },
  {
   "cell_type": "code",
   "execution_count": null,
   "id": "ad5aa8f2",
   "metadata": {},
   "outputs": [],
   "source": [
    "print(f'\\nThis dataset contains (rows, colums) after cleaning: {df.shape}.\\n')\n",
    "print(df.head(25),'\\n')\n",
    "print(df.tail(25),'\\n')\n",
    "print(df.describe(),'\\n')"
   ]
  },
  {
   "cell_type": "markdown",
   "id": "f71d655e",
   "metadata": {},
   "source": [
    "## DATA VISUALIZATION"
   ]
  },
  {
   "cell_type": "markdown",
   "id": "e5403230",
   "metadata": {},
   "source": [
    "##### Make graphs from the previous dataframe:"
   ]
  },
  {
   "cell_type": "markdown",
   "id": "75ef672a",
   "metadata": {},
   "source": [
    "Linear plot:"
   ]
  },
  {
   "cell_type": "code",
   "execution_count": null,
   "id": "ebef4a66",
   "metadata": {},
   "outputs": [],
   "source": [
    "df.plot(title='')\n",
    "plt.xlabel('')\n",
    "plt.ylabel('')\n",
    "plt.show()"
   ]
  },
  {
   "cell_type": "markdown",
   "id": "b2c72cc3",
   "metadata": {},
   "source": [
    "Bar plot:"
   ]
  },
  {
   "cell_type": "code",
   "execution_count": null,
   "id": "6df9c21a",
   "metadata": {},
   "outputs": [],
   "source": [
    "df.plot.bar(title='',subplots=True)\n",
    "plt.xlabel('')\n",
    "plt.ylabel('')\n",
    "plt.show()"
   ]
  },
  {
   "cell_type": "markdown",
   "id": "82ff84a5",
   "metadata": {},
   "source": [
    "Scatter plot:"
   ]
  },
  {
   "cell_type": "code",
   "execution_count": null,
   "id": "49108a1f",
   "metadata": {},
   "outputs": [],
   "source": [
    "df.plot.scatter(x=2,y=3,title='',subplots=True)\n",
    "df.plot(title='')\n",
    "plt.xlabel('')\n",
    "plt.ylabel('')\n",
    "plt.show()"
   ]
  },
  {
   "cell_type": "markdown",
   "id": "e9849d0d",
   "metadata": {},
   "source": [
    "## MACHINE LEARNING"
   ]
  },
  {
   "cell_type": "markdown",
   "id": "0400b67b",
   "metadata": {},
   "source": [
    "Training and testing data:"
   ]
  },
  {
   "cell_type": "code",
   "execution_count": null,
   "id": "796236f1",
   "metadata": {},
   "outputs": [],
   "source": [
    "X_train, X_test, y_train, y_test = train_test_split(X, y, random_state = 0)"
   ]
  },
  {
   "cell_type": "markdown",
   "id": "bdec1d2d",
   "metadata": {},
   "source": [
    "##### Create your model:"
   ]
  },
  {
   "cell_type": "markdown",
   "id": "e460a150",
   "metadata": {},
   "source": [
    "Supervised Learning Estimators:"
   ]
  },
  {
   "cell_type": "markdown",
   "id": "d983d125",
   "metadata": {},
   "source": [
    "1) Linear Regression"
   ]
  },
  {
   "cell_type": "code",
   "execution_count": null,
   "id": "3b6b296d",
   "metadata": {},
   "outputs": [],
   "source": [
    "lr = LinearRegression(normalize=True)"
   ]
  },
  {
   "cell_type": "markdown",
   "id": "fdcdd355",
   "metadata": {},
   "source": [
    "2) Support Vector Machines (SVM)"
   ]
  },
  {
   "cell_type": "code",
   "execution_count": null,
   "id": "06caf7fa",
   "metadata": {},
   "outputs": [],
   "source": [
    "svc = SVC(kernel='Linear')"
   ]
  },
  {
   "cell_type": "markdown",
   "id": "9d8bfe7d",
   "metadata": {},
   "source": [
    "3) Naive Bayes"
   ]
  },
  {
   "cell_type": "code",
   "execution_count": null,
   "id": "9fc5d20e",
   "metadata": {},
   "outputs": [],
   "source": [
    "gnb = GaussianNB"
   ]
  },
  {
   "cell_type": "markdown",
   "id": "d69e603b",
   "metadata": {},
   "source": [
    "4) KNN"
   ]
  },
  {
   "cell_type": "code",
   "execution_count": null,
   "id": "ff621353",
   "metadata": {},
   "outputs": [],
   "source": [
    "knn = neigbors.KNeighborsClassifier(n_neighbors=5)"
   ]
  },
  {
   "cell_type": "markdown",
   "id": "43da329c",
   "metadata": {},
   "source": [
    "Unsupervised Learning Estimators:"
   ]
  },
  {
   "cell_type": "markdown",
   "id": "9b496124",
   "metadata": {},
   "source": [
    "1) Principal Component Analysis (PCA)"
   ]
  },
  {
   "cell_type": "code",
   "execution_count": null,
   "id": "29f0933d",
   "metadata": {},
   "outputs": [],
   "source": [
    "pca = PCA(n_components=0.95)"
   ]
  },
  {
   "cell_type": "markdown",
   "id": "2f714c70",
   "metadata": {},
   "source": [
    "2) K Means"
   ]
  },
  {
   "cell_type": "code",
   "execution_count": null,
   "id": "69093b9b",
   "metadata": {},
   "outputs": [],
   "source": [
    "k_means = KMeans(n_clusters=3,random_state=0)"
   ]
  },
  {
   "cell_type": "markdown",
   "id": "80c6948a",
   "metadata": {},
   "source": [
    "##### Fit the model to the data:"
   ]
  },
  {
   "cell_type": "markdown",
   "id": "652c233a",
   "metadata": {},
   "source": [
    "Supervised Learning:"
   ]
  },
  {
   "cell_type": "code",
   "execution_count": null,
   "id": "8e9d14b9",
   "metadata": {},
   "outputs": [],
   "source": [
    "lr.fit(X, y)\n",
    "knn.fit(X_train, y_train)\n",
    "svc.fit(X_train, y_train)"
   ]
  },
  {
   "cell_type": "markdown",
   "id": "307f78b6",
   "metadata": {},
   "source": [
    "Unsupervised Learning:"
   ]
  },
  {
   "cell_type": "code",
   "execution_count": null,
   "id": "39d42698",
   "metadata": {},
   "outputs": [],
   "source": [
    "k_means.fit(X_train)\n",
    "pca_model = pca.fit_transform(X_train)"
   ]
  },
  {
   "cell_type": "markdown",
   "id": "151490fc",
   "metadata": {},
   "source": [
    "##### Make predictions with the data:"
   ]
  },
  {
   "cell_type": "markdown",
   "id": "11d3f6d1",
   "metadata": {},
   "source": [
    "Supervised Estimators:"
   ]
  },
  {
   "cell_type": "code",
   "execution_count": null,
   "id": "371a4668",
   "metadata": {},
   "outputs": [],
   "source": [
    "y_prediction = svc.predict(np.random.random((2,5)))\n",
    "y_prediction = lr.predict(X_test)\n",
    "y_prediction = knn.predict_proba(X_test)"
   ]
  },
  {
   "cell_type": "markdown",
   "id": "b7827a62",
   "metadata": {},
   "source": [
    "Unsupervised Estimators:"
   ]
  },
  {
   "cell_type": "code",
   "execution_count": null,
   "id": "7151b6b5",
   "metadata": {},
   "outputs": [],
   "source": [
    "y_prediction = k_means.predict(X_test)"
   ]
  },
  {
   "cell_type": "markdown",
   "id": "708b660d",
   "metadata": {},
   "source": [
    "Doing standarization to data:"
   ]
  },
  {
   "cell_type": "code",
   "execution_count": null,
   "id": "344a34a9",
   "metadata": {},
   "outputs": [],
   "source": [
    "scaler = StandardScaler().fit(X_train)\n",
    "standardized_X = scaler.transform(X_train)\n",
    "standardized_X_test = scaler.transform(X_test)"
   ]
  },
  {
   "cell_type": "markdown",
   "id": "0ef7b437",
   "metadata": {},
   "source": [
    "Doing normalization to data:"
   ]
  },
  {
   "cell_type": "code",
   "execution_count": null,
   "id": "22a41012",
   "metadata": {},
   "outputs": [],
   "source": [
    "scaler = Normalizer().fit(X_train)\n",
    "normalized_X = scaler.transform(X_train)\n",
    "normalized_X_test = scaler.transform(X_test)"
   ]
  },
  {
   "cell_type": "markdown",
   "id": "eaa3f2f5",
   "metadata": {},
   "source": [
    "Doing binarization to data:"
   ]
  },
  {
   "cell_type": "code",
   "execution_count": null,
   "id": "eaa06a6e",
   "metadata": {},
   "outputs": [],
   "source": [
    "binarizer = Binarizer(threshold = 0.0).fit(X)\n",
    "binary_X = binarizer.transform(X)"
   ]
  },
  {
   "cell_type": "markdown",
   "id": "47a96ff2",
   "metadata": {},
   "source": [
    "Calculating the mean absolute error (mae):"
   ]
  },
  {
   "cell_type": "code",
   "execution_count": null,
   "id": "8ec8f7de",
   "metadata": {},
   "outputs": [],
   "source": [
    "y_true = []\n",
    "mean_absolute_error(y_true, y_prediction)"
   ]
  },
  {
   "cell_type": "markdown",
   "id": "30f61844",
   "metadata": {},
   "source": [
    "Calculating the adjusted rand index:"
   ]
  },
  {
   "cell_type": "code",
   "execution_count": null,
   "id": "5962e13e",
   "metadata": {},
   "outputs": [],
   "source": [
    "adjusted_rand_score(y_true, y_prediction)"
   ]
  },
  {
   "cell_type": "markdown",
   "id": "6134745f",
   "metadata": {},
   "source": [
    "Calculating the homogeneity:"
   ]
  },
  {
   "cell_type": "code",
   "execution_count": null,
   "id": "13965196",
   "metadata": {},
   "outputs": [],
   "source": [
    "homogeneity_score(y_true, y_prediction)"
   ]
  },
  {
   "cell_type": "markdown",
   "id": "78c9ebe1",
   "metadata": {},
   "source": [
    "Calculating the V-measure:"
   ]
  },
  {
   "cell_type": "code",
   "execution_count": null,
   "id": "d8e156c4",
   "metadata": {},
   "outputs": [],
   "source": [
    "metric.v_measure_score(y_true, y_prediction)"
   ]
  },
  {
   "cell_type": "markdown",
   "id": "478e3b45",
   "metadata": {},
   "source": [
    "Do the cross-validation of your model:"
   ]
  },
  {
   "cell_type": "code",
   "execution_count": null,
   "id": "e83ddc0c",
   "metadata": {},
   "outputs": [],
   "source": [
    "print(cross_val_score(knn, X_train, y_train, cv=4),'\\n')\n",
    "print(cross_val_score(lr, X, y, cv=2))"
   ]
  }
 ],
 "metadata": {
  "kernelspec": {
   "display_name": "Python 3",
   "language": "python",
   "name": "python3"
  },
  "language_info": {
   "codemirror_mode": {
    "name": "ipython",
    "version": 3
   },
   "file_extension": ".py",
   "mimetype": "text/x-python",
   "name": "python",
   "nbconvert_exporter": "python",
   "pygments_lexer": "ipython3",
   "version": "3.6.9"
  }
 },
 "nbformat": 4,
 "nbformat_minor": 5
}
