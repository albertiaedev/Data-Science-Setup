{
 "cells": [
  {
   "cell_type": "code",
   "execution_count": null,
   "id": "34e5c56d-ea3f-423a-8df6-03c5de5ae0b6",
   "metadata": {},
   "outputs": [],
   "source": [
    "# import pandas, numpy and matplotlib\n",
    "\n",
    "import pandas as pd\n",
    "import numpy as np\n",
    "import matplotlib.pyplot as plt"
   ]
  },
  {
   "cell_type": "code",
   "execution_count": null,
   "id": "97baafac-bfef-4880-b2e8-374cd6470289",
   "metadata": {},
   "outputs": [],
   "source": [
    "# create a dataframe from scratch\n",
    "\n",
    "df = pd.DataFrame(\n",
    "    {'Age':[24,33,44,12,32,25,23,18],\n",
    "     'Height':[1.61,1.78,1.63,1.56,1.45,1.61,1.69,1.43],\n",
    "     'Weight':[40,62,79,43,84,66,65,58]},\n",
    "    index = ['Allie','Paul',\n",
    "             'Larry','Jane',\n",
    "             'Steve','Wendy',\n",
    "             'Henry','Diane'])"
   ]
  },
  {
   "cell_type": "code",
   "execution_count": null,
   "id": "8dc90428-49ac-4823-8a58-4d1b78bbc6e7",
   "metadata": {},
   "outputs": [],
   "source": [
    "# check what the dataframe that you just created looks like\n",
    "\n",
    "print(df,'\\n')\n",
    "print(df.describe())"
   ]
  },
  {
   "cell_type": "code",
   "execution_count": null,
   "id": "c3a6f21b-6bbd-4d7b-b5b8-59a19c7f4151",
   "metadata": {},
   "outputs": [],
   "source": [
    "# make plots off the dataframe\n",
    "\n",
    "df.plot(title='Demographics')\n",
    "df.plot.bar(title='Demographics',subplots=True)\n",
    "df.plot.scatter(x=1,y=2,title='Demographics',subplots=True)\n",
    "plt.xlabel('Allie   -   Paul   -   Larry   -   Jane   -   Steve   -   Wendy   -   Henry   -   Diane')\n",
    "plt.show()"
   ]
  }
 ],
 "metadata": {
  "kernelspec": {
   "display_name": "Python 3 (ipykernel)",
   "language": "python",
   "name": "python3"
  },
  "language_info": {
   "codemirror_mode": {
    "name": "ipython",
    "version": 3
   },
   "file_extension": ".py",
   "mimetype": "text/x-python",
   "name": "python",
   "nbconvert_exporter": "python",
   "pygments_lexer": "ipython3",
   "version": "3.10.12"
  }
 },
 "nbformat": 4,
 "nbformat_minor": 5
}
